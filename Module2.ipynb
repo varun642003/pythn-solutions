{
 "cells": [
  {
   "cell_type": "markdown",
   "metadata": {},
   "source": [
    "# Python Basics"
   ]
  },
  {
   "cell_type": "markdown",
   "metadata": {},
   "source": [
    "These assignments aim to get you acquainted with Python, which is an important requirement for all the research done at Solarillion Foundation. Apart from teaching you Python, these assignments also aim to make you a better programmer and cultivate better coding practices. \n",
    "\n",
    "Visit these links for more details: <br>\n",
    "PEP8 Practices: https://www.python.org/dev/peps/pep-0008/ <br>\n",
    "Check PEP8: http://pep8online.com <br>\n",
    "Python Reference: https://www.py4e.com/lessons <br>\n",
    "\n",
    "Do use Google efficiently, and refer to StackOverflow for clarifying any programming doubts. If you're still stuck, feel free to ask a TA to help you.\n",
    "\n",
    "Each task in the assignment comprises of at least two cells. There are function definitions wherein you will name the function(s), and write code to solve the problem at hand. You will call the function(s) in the last cell of each task, and check your output.\n",
    "\n",
    "We encourage you to play around and learn as much as possible, and be as creative as you can get. More than anything, have fun doing these assignments. Enjoy!"
   ]
  },
  {
   "cell_type": "markdown",
   "metadata": {},
   "source": [
    "# Important\n",
    "* **Only the imports and functions must be present when you upload this notebook to GitHub for verification.** \n",
    "* **Do not upload it until you want to get it verified. Do not change function names or add extra cells or code, or remove anything.**\n",
    "* **For your rough work and four showing your code to TAs, use a different notebook with the name Module2Playground.ipynb and copy only the final functions to this notebook for verification.**"
   ]
  },
  {
   "cell_type": "markdown",
   "metadata": {},
   "source": [
    "# Module 2\n",
    "Scope: NumPy, pandas, pickle, matplotlib, File operations"
   ]
  },
  {
   "cell_type": "markdown",
   "metadata": {},
   "source": [
    "## Imports - Always Execute First!\n",
    "Import any modules and turn on any magic here:"
   ]
  },
  {
   "cell_type": "code",
   "execution_count": 55,
   "metadata": {},
   "outputs": [
    {
     "ename": "ModuleNotFoundError",
     "evalue": "No module named 'pycodestyle_magic'",
     "output_type": "error",
     "traceback": [
      "\u001b[1;31m---------------------------------------------------------------------------\u001b[0m",
      "\u001b[1;31mModuleNotFoundError\u001b[0m                       Traceback (most recent call last)",
      "\u001b[1;32m~\\AppData\\Local\\Temp\\ipykernel_14340\\2485257783.py\u001b[0m in \u001b[0;36m<module>\u001b[1;34m\u001b[0m\n\u001b[0;32m      7\u001b[0m \u001b[0mipy\u001b[0m \u001b[1;33m=\u001b[0m \u001b[0mget_ipython\u001b[0m\u001b[1;33m(\u001b[0m\u001b[1;33m)\u001b[0m\u001b[1;33m\u001b[0m\u001b[1;33m\u001b[0m\u001b[0m\n\u001b[0;32m      8\u001b[0m \u001b[1;32mif\u001b[0m \u001b[0mipy\u001b[0m \u001b[1;32mis\u001b[0m \u001b[1;32mnot\u001b[0m \u001b[1;32mNone\u001b[0m\u001b[1;33m:\u001b[0m\u001b[1;33m\u001b[0m\u001b[1;33m\u001b[0m\u001b[0m\n\u001b[1;32m----> 9\u001b[1;33m     \u001b[0mipy\u001b[0m\u001b[1;33m.\u001b[0m\u001b[0mrun_line_magic\u001b[0m\u001b[1;33m(\u001b[0m\u001b[1;34m\"load_ext\"\u001b[0m\u001b[1;33m,\u001b[0m \u001b[1;34m\"pycodestyle_magic\"\u001b[0m\u001b[1;33m)\u001b[0m\u001b[1;33m\u001b[0m\u001b[1;33m\u001b[0m\u001b[0m\n\u001b[0m\u001b[0;32m     10\u001b[0m     \u001b[0mipy\u001b[0m\u001b[1;33m.\u001b[0m\u001b[0mrun_line_magic\u001b[0m\u001b[1;33m(\u001b[0m\u001b[1;34m\"pycodestyle_on\"\u001b[0m\u001b[1;33m,\u001b[0m \u001b[1;34m\"\"\u001b[0m\u001b[1;33m)\u001b[0m\u001b[1;33m\u001b[0m\u001b[1;33m\u001b[0m\u001b[0m\n\u001b[0;32m     11\u001b[0m     \u001b[0mipy\u001b[0m\u001b[1;33m.\u001b[0m\u001b[0mrun_line_magic\u001b[0m\u001b[1;33m(\u001b[0m\u001b[1;34m\"matplotlib\"\u001b[0m\u001b[1;33m,\u001b[0m \u001b[1;34m\"inline\"\u001b[0m\u001b[1;33m)\u001b[0m\u001b[1;33m\u001b[0m\u001b[1;33m\u001b[0m\u001b[0m\n",
      "\u001b[1;32m~\\anaconda3\\lib\\site-packages\\IPython\\core\\interactiveshell.py\u001b[0m in \u001b[0;36mrun_line_magic\u001b[1;34m(self, magic_name, line, _stack_depth)\u001b[0m\n\u001b[0;32m   2362\u001b[0m                 \u001b[0mkwargs\u001b[0m\u001b[1;33m[\u001b[0m\u001b[1;34m'local_ns'\u001b[0m\u001b[1;33m]\u001b[0m \u001b[1;33m=\u001b[0m \u001b[0mself\u001b[0m\u001b[1;33m.\u001b[0m\u001b[0mget_local_scope\u001b[0m\u001b[1;33m(\u001b[0m\u001b[0mstack_depth\u001b[0m\u001b[1;33m)\u001b[0m\u001b[1;33m\u001b[0m\u001b[1;33m\u001b[0m\u001b[0m\n\u001b[0;32m   2363\u001b[0m             \u001b[1;32mwith\u001b[0m \u001b[0mself\u001b[0m\u001b[1;33m.\u001b[0m\u001b[0mbuiltin_trap\u001b[0m\u001b[1;33m:\u001b[0m\u001b[1;33m\u001b[0m\u001b[1;33m\u001b[0m\u001b[0m\n\u001b[1;32m-> 2364\u001b[1;33m                 \u001b[0mresult\u001b[0m \u001b[1;33m=\u001b[0m \u001b[0mfn\u001b[0m\u001b[1;33m(\u001b[0m\u001b[1;33m*\u001b[0m\u001b[0margs\u001b[0m\u001b[1;33m,\u001b[0m \u001b[1;33m**\u001b[0m\u001b[0mkwargs\u001b[0m\u001b[1;33m)\u001b[0m\u001b[1;33m\u001b[0m\u001b[1;33m\u001b[0m\u001b[0m\n\u001b[0m\u001b[0;32m   2365\u001b[0m             \u001b[1;32mreturn\u001b[0m \u001b[0mresult\u001b[0m\u001b[1;33m\u001b[0m\u001b[1;33m\u001b[0m\u001b[0m\n\u001b[0;32m   2366\u001b[0m \u001b[1;33m\u001b[0m\u001b[0m\n",
      "\u001b[1;32m~\\anaconda3\\lib\\site-packages\\decorator.py\u001b[0m in \u001b[0;36mfun\u001b[1;34m(*args, **kw)\u001b[0m\n\u001b[0;32m    230\u001b[0m             \u001b[1;32mif\u001b[0m \u001b[1;32mnot\u001b[0m \u001b[0mkwsyntax\u001b[0m\u001b[1;33m:\u001b[0m\u001b[1;33m\u001b[0m\u001b[1;33m\u001b[0m\u001b[0m\n\u001b[0;32m    231\u001b[0m                 \u001b[0margs\u001b[0m\u001b[1;33m,\u001b[0m \u001b[0mkw\u001b[0m \u001b[1;33m=\u001b[0m \u001b[0mfix\u001b[0m\u001b[1;33m(\u001b[0m\u001b[0margs\u001b[0m\u001b[1;33m,\u001b[0m \u001b[0mkw\u001b[0m\u001b[1;33m,\u001b[0m \u001b[0msig\u001b[0m\u001b[1;33m)\u001b[0m\u001b[1;33m\u001b[0m\u001b[1;33m\u001b[0m\u001b[0m\n\u001b[1;32m--> 232\u001b[1;33m             \u001b[1;32mreturn\u001b[0m \u001b[0mcaller\u001b[0m\u001b[1;33m(\u001b[0m\u001b[0mfunc\u001b[0m\u001b[1;33m,\u001b[0m \u001b[1;33m*\u001b[0m\u001b[1;33m(\u001b[0m\u001b[0mextras\u001b[0m \u001b[1;33m+\u001b[0m \u001b[0margs\u001b[0m\u001b[1;33m)\u001b[0m\u001b[1;33m,\u001b[0m \u001b[1;33m**\u001b[0m\u001b[0mkw\u001b[0m\u001b[1;33m)\u001b[0m\u001b[1;33m\u001b[0m\u001b[1;33m\u001b[0m\u001b[0m\n\u001b[0m\u001b[0;32m    233\u001b[0m     \u001b[0mfun\u001b[0m\u001b[1;33m.\u001b[0m\u001b[0m__name__\u001b[0m \u001b[1;33m=\u001b[0m \u001b[0mfunc\u001b[0m\u001b[1;33m.\u001b[0m\u001b[0m__name__\u001b[0m\u001b[1;33m\u001b[0m\u001b[1;33m\u001b[0m\u001b[0m\n\u001b[0;32m    234\u001b[0m     \u001b[0mfun\u001b[0m\u001b[1;33m.\u001b[0m\u001b[0m__doc__\u001b[0m \u001b[1;33m=\u001b[0m \u001b[0mfunc\u001b[0m\u001b[1;33m.\u001b[0m\u001b[0m__doc__\u001b[0m\u001b[1;33m\u001b[0m\u001b[1;33m\u001b[0m\u001b[0m\n",
      "\u001b[1;32m~\\anaconda3\\lib\\site-packages\\IPython\\core\\magic.py\u001b[0m in \u001b[0;36m<lambda>\u001b[1;34m(f, *a, **k)\u001b[0m\n\u001b[0;32m    185\u001b[0m     \u001b[1;31m# but it's overkill for just that one bit of state.\u001b[0m\u001b[1;33m\u001b[0m\u001b[1;33m\u001b[0m\u001b[0m\n\u001b[0;32m    186\u001b[0m     \u001b[1;32mdef\u001b[0m \u001b[0mmagic_deco\u001b[0m\u001b[1;33m(\u001b[0m\u001b[0marg\u001b[0m\u001b[1;33m)\u001b[0m\u001b[1;33m:\u001b[0m\u001b[1;33m\u001b[0m\u001b[1;33m\u001b[0m\u001b[0m\n\u001b[1;32m--> 187\u001b[1;33m         \u001b[0mcall\u001b[0m \u001b[1;33m=\u001b[0m \u001b[1;32mlambda\u001b[0m \u001b[0mf\u001b[0m\u001b[1;33m,\u001b[0m \u001b[1;33m*\u001b[0m\u001b[0ma\u001b[0m\u001b[1;33m,\u001b[0m \u001b[1;33m**\u001b[0m\u001b[0mk\u001b[0m\u001b[1;33m:\u001b[0m \u001b[0mf\u001b[0m\u001b[1;33m(\u001b[0m\u001b[1;33m*\u001b[0m\u001b[0ma\u001b[0m\u001b[1;33m,\u001b[0m \u001b[1;33m**\u001b[0m\u001b[0mk\u001b[0m\u001b[1;33m)\u001b[0m\u001b[1;33m\u001b[0m\u001b[1;33m\u001b[0m\u001b[0m\n\u001b[0m\u001b[0;32m    188\u001b[0m \u001b[1;33m\u001b[0m\u001b[0m\n\u001b[0;32m    189\u001b[0m         \u001b[1;32mif\u001b[0m \u001b[0mcallable\u001b[0m\u001b[1;33m(\u001b[0m\u001b[0marg\u001b[0m\u001b[1;33m)\u001b[0m\u001b[1;33m:\u001b[0m\u001b[1;33m\u001b[0m\u001b[1;33m\u001b[0m\u001b[0m\n",
      "\u001b[1;32m~\\anaconda3\\lib\\site-packages\\IPython\\core\\magics\\extension.py\u001b[0m in \u001b[0;36mload_ext\u001b[1;34m(self, module_str)\u001b[0m\n\u001b[0;32m     31\u001b[0m         \u001b[1;32mif\u001b[0m \u001b[1;32mnot\u001b[0m \u001b[0mmodule_str\u001b[0m\u001b[1;33m:\u001b[0m\u001b[1;33m\u001b[0m\u001b[1;33m\u001b[0m\u001b[0m\n\u001b[0;32m     32\u001b[0m             \u001b[1;32mraise\u001b[0m \u001b[0mUsageError\u001b[0m\u001b[1;33m(\u001b[0m\u001b[1;34m'Missing module name.'\u001b[0m\u001b[1;33m)\u001b[0m\u001b[1;33m\u001b[0m\u001b[1;33m\u001b[0m\u001b[0m\n\u001b[1;32m---> 33\u001b[1;33m         \u001b[0mres\u001b[0m \u001b[1;33m=\u001b[0m \u001b[0mself\u001b[0m\u001b[1;33m.\u001b[0m\u001b[0mshell\u001b[0m\u001b[1;33m.\u001b[0m\u001b[0mextension_manager\u001b[0m\u001b[1;33m.\u001b[0m\u001b[0mload_extension\u001b[0m\u001b[1;33m(\u001b[0m\u001b[0mmodule_str\u001b[0m\u001b[1;33m)\u001b[0m\u001b[1;33m\u001b[0m\u001b[1;33m\u001b[0m\u001b[0m\n\u001b[0m\u001b[0;32m     34\u001b[0m \u001b[1;33m\u001b[0m\u001b[0m\n\u001b[0;32m     35\u001b[0m         \u001b[1;32mif\u001b[0m \u001b[0mres\u001b[0m \u001b[1;33m==\u001b[0m \u001b[1;34m'already loaded'\u001b[0m\u001b[1;33m:\u001b[0m\u001b[1;33m\u001b[0m\u001b[1;33m\u001b[0m\u001b[0m\n",
      "\u001b[1;32m~\\anaconda3\\lib\\site-packages\\IPython\\core\\extensions.py\u001b[0m in \u001b[0;36mload_extension\u001b[1;34m(self, module_str)\u001b[0m\n\u001b[0;32m     78\u001b[0m             \u001b[1;32mif\u001b[0m \u001b[0mmodule_str\u001b[0m \u001b[1;32mnot\u001b[0m \u001b[1;32min\u001b[0m \u001b[0msys\u001b[0m\u001b[1;33m.\u001b[0m\u001b[0mmodules\u001b[0m\u001b[1;33m:\u001b[0m\u001b[1;33m\u001b[0m\u001b[1;33m\u001b[0m\u001b[0m\n\u001b[0;32m     79\u001b[0m                 \u001b[1;32mwith\u001b[0m \u001b[0mprepended_to_syspath\u001b[0m\u001b[1;33m(\u001b[0m\u001b[0mself\u001b[0m\u001b[1;33m.\u001b[0m\u001b[0mipython_extension_dir\u001b[0m\u001b[1;33m)\u001b[0m\u001b[1;33m:\u001b[0m\u001b[1;33m\u001b[0m\u001b[1;33m\u001b[0m\u001b[0m\n\u001b[1;32m---> 80\u001b[1;33m                     \u001b[0mmod\u001b[0m \u001b[1;33m=\u001b[0m \u001b[0mimport_module\u001b[0m\u001b[1;33m(\u001b[0m\u001b[0mmodule_str\u001b[0m\u001b[1;33m)\u001b[0m\u001b[1;33m\u001b[0m\u001b[1;33m\u001b[0m\u001b[0m\n\u001b[0m\u001b[0;32m     81\u001b[0m                     \u001b[1;32mif\u001b[0m \u001b[0mmod\u001b[0m\u001b[1;33m.\u001b[0m\u001b[0m__file__\u001b[0m\u001b[1;33m.\u001b[0m\u001b[0mstartswith\u001b[0m\u001b[1;33m(\u001b[0m\u001b[0mself\u001b[0m\u001b[1;33m.\u001b[0m\u001b[0mipython_extension_dir\u001b[0m\u001b[1;33m)\u001b[0m\u001b[1;33m:\u001b[0m\u001b[1;33m\u001b[0m\u001b[1;33m\u001b[0m\u001b[0m\n\u001b[0;32m     82\u001b[0m                         print((\"Loading extensions from {dir} is deprecated. \"\n",
      "\u001b[1;32m~\\anaconda3\\lib\\importlib\\__init__.py\u001b[0m in \u001b[0;36mimport_module\u001b[1;34m(name, package)\u001b[0m\n\u001b[0;32m    125\u001b[0m                 \u001b[1;32mbreak\u001b[0m\u001b[1;33m\u001b[0m\u001b[1;33m\u001b[0m\u001b[0m\n\u001b[0;32m    126\u001b[0m             \u001b[0mlevel\u001b[0m \u001b[1;33m+=\u001b[0m \u001b[1;36m1\u001b[0m\u001b[1;33m\u001b[0m\u001b[1;33m\u001b[0m\u001b[0m\n\u001b[1;32m--> 127\u001b[1;33m     \u001b[1;32mreturn\u001b[0m \u001b[0m_bootstrap\u001b[0m\u001b[1;33m.\u001b[0m\u001b[0m_gcd_import\u001b[0m\u001b[1;33m(\u001b[0m\u001b[0mname\u001b[0m\u001b[1;33m[\u001b[0m\u001b[0mlevel\u001b[0m\u001b[1;33m:\u001b[0m\u001b[1;33m]\u001b[0m\u001b[1;33m,\u001b[0m \u001b[0mpackage\u001b[0m\u001b[1;33m,\u001b[0m \u001b[0mlevel\u001b[0m\u001b[1;33m)\u001b[0m\u001b[1;33m\u001b[0m\u001b[1;33m\u001b[0m\u001b[0m\n\u001b[0m\u001b[0;32m    128\u001b[0m \u001b[1;33m\u001b[0m\u001b[0m\n\u001b[0;32m    129\u001b[0m \u001b[1;33m\u001b[0m\u001b[0m\n",
      "\u001b[1;32m~\\anaconda3\\lib\\importlib\\_bootstrap.py\u001b[0m in \u001b[0;36m_gcd_import\u001b[1;34m(name, package, level)\u001b[0m\n",
      "\u001b[1;32m~\\anaconda3\\lib\\importlib\\_bootstrap.py\u001b[0m in \u001b[0;36m_find_and_load\u001b[1;34m(name, import_)\u001b[0m\n",
      "\u001b[1;32m~\\anaconda3\\lib\\importlib\\_bootstrap.py\u001b[0m in \u001b[0;36m_find_and_load_unlocked\u001b[1;34m(name, import_)\u001b[0m\n",
      "\u001b[1;31mModuleNotFoundError\u001b[0m: No module named 'pycodestyle_magic'"
     ]
    }
   ],
   "source": [
    "import matplotlib as mpl\n",
    "import matplotlib.pyplot as plt\n",
    "import numpy as np\n",
    "import pandas as pd\n",
    "import pickle as pkl\n",
    "from IPython import get_ipython\n",
    "ipy = get_ipython()\n",
    "if ipy is not None:\n",
    "    ipy.run_line_magic(\"load_ext\", \"pycodestyle_magic\")\n",
    "    ipy.run_line_magic(\"pycodestyle_on\", \"\")\n",
    "    ipy.run_line_magic(\"matplotlib\", \"inline\")"
   ]
  },
  {
   "cell_type": "markdown",
   "metadata": {},
   "source": [
    "## Task 1"
   ]
  },
  {
   "cell_type": "markdown",
   "metadata": {},
   "source": [
    "Basics of NumPy, pandas, pickle and matplotlib."
   ]
  },
  {
   "cell_type": "markdown",
   "metadata": {},
   "source": [
    "**Question 1**"
   ]
  },
  {
   "cell_type": "code",
   "execution_count": 137,
   "metadata": {},
   "outputs": [
    {
     "data": {
      "text/plain": [
       "\"\\n    Read the pickle file 'Data/Stress.pkl' and transform the contents into a\\n    a pandas DataFrame of the following form:\\n    \\n            +------+------+------+-----+------+-------+\\n            | ACCx | ACCy | ACCz | ECG | RESP | LABEL |\\n            +------+------+------+-----+------+-------+\\n            |      |      |      |     |      |       |\\n            +------+------+------+-----+------+-------+\\n            |      |      |      |     |      |       |\\n            +------+------+------+-----+------+-------+\\n            |      |      |      |     |      |       |\\n            \\n            +------+------+------+-----+------+-------+\\n\\n            Shape: (700, 6)\\n\\n    Save this DataFrame as a CSV file.\\n\\n    Modules\\n    -------\\n    pickle, pandas\\n    \\n    Lookups\\n    -------\\n    NumPy and pandas basics (Check the Lookups folder)\\n    Try to complete the tasks in the Lookups, and play around with the notebooks.\\n\""
      ]
     },
     "execution_count": 137,
     "metadata": {},
     "output_type": "execute_result"
    }
   ],
   "source": [
    "\"\"\"\n",
    "    Read the pickle file 'Data/Stress.pkl' and transform the contents into a\n",
    "    a pandas DataFrame of the following form:\n",
    "    \n",
    "            +------+------+------+-----+------+-------+\n",
    "            | ACCx | ACCy | ACCz | ECG | RESP | LABEL |\n",
    "            +------+------+------+-----+------+-------+\n",
    "            |      |      |      |     |      |       |\n",
    "            +------+------+------+-----+------+-------+\n",
    "            |      |      |      |     |      |       |\n",
    "            +------+------+------+-----+------+-------+\n",
    "            |      |      |      |     |      |       |\n",
    "            \n",
    "            +------+------+------+-----+------+-------+\n",
    "\n",
    "            Shape: (700, 6)\n",
    "\n",
    "    Save this DataFrame as a CSV file.\n",
    "\n",
    "    Modules\n",
    "    -------\n",
    "    pickle, pandas\n",
    "    \n",
    "    Lookups\n",
    "    -------\n",
    "    NumPy and pandas basics (Check the Lookups folder)\n",
    "    Try to complete the tasks in the Lookups, and play around with the notebooks.\n",
    "\"\"\"        "
   ]
  },
  {
   "cell_type": "code",
   "execution_count": 4,
   "metadata": {},
   "outputs": [],
   "source": [
    "import pickle as pkl\n",
    "import pandas as pd\n",
    "def pickle_to_csv(filename):\n",
    "    \"\"\"\n",
    "        Function: pickle_to_csv(filename)\n",
    "        Parameters: filename (String)\n",
    "        Save: DataFrame as `Stress.csv` in folder `Data`\n",
    "        Return: DataFrame\n",
    "    \"\"\"\n",
    "    with open(filename,\"rb\") as f:\n",
    "        a=pkl.load(f)\n",
    "    x=pd.DataFrame(a[\"signal\"])\n",
    "    x[\"ACCx\"]=x[\"ACC\"].str[0]\n",
    "    x[\"ACCy\"]=x[\"ACC\"].str[1]\n",
    "    x[\"ACCz\"]=x[\"ACC\"].str[2]\n",
    "    x[\"RESP\"]=x[\"RESP\"].str[0]\n",
    "    x[\"ECG\"]=x[\"ECG\"].str[0]\n",
    "    x[\"LABEL\"]=x[\"LABEL\"].str[0]\n",
    "    x=x.drop(\"ACC\",axis=1)\n",
    "    return x"
   ]
  },
  {
   "cell_type": "code",
   "execution_count": 5,
   "metadata": {},
   "outputs": [
    {
     "data": {
      "text/html": [
       "<div>\n",
       "<style scoped>\n",
       "    .dataframe tbody tr th:only-of-type {\n",
       "        vertical-align: middle;\n",
       "    }\n",
       "\n",
       "    .dataframe tbody tr th {\n",
       "        vertical-align: top;\n",
       "    }\n",
       "\n",
       "    .dataframe thead th {\n",
       "        text-align: right;\n",
       "    }\n",
       "</style>\n",
       "<table border=\"1\" class=\"dataframe\">\n",
       "  <thead>\n",
       "    <tr style=\"text-align: right;\">\n",
       "      <th></th>\n",
       "      <th>ECG</th>\n",
       "      <th>RESP</th>\n",
       "      <th>LABEL</th>\n",
       "      <th>ACCx</th>\n",
       "      <th>ACCy</th>\n",
       "      <th>ACCz</th>\n",
       "    </tr>\n",
       "  </thead>\n",
       "  <tbody>\n",
       "    <tr>\n",
       "      <th>0</th>\n",
       "      <td>0.021423</td>\n",
       "      <td>-1.148987</td>\n",
       "      <td>0.0</td>\n",
       "      <td>0.9554</td>\n",
       "      <td>-0.2220</td>\n",
       "      <td>-0.5580</td>\n",
       "    </tr>\n",
       "    <tr>\n",
       "      <th>1</th>\n",
       "      <td>0.020325</td>\n",
       "      <td>-1.124573</td>\n",
       "      <td>0.0</td>\n",
       "      <td>0.9258</td>\n",
       "      <td>-0.2216</td>\n",
       "      <td>-0.5538</td>\n",
       "    </tr>\n",
       "    <tr>\n",
       "      <th>2</th>\n",
       "      <td>0.016525</td>\n",
       "      <td>-1.152039</td>\n",
       "      <td>0.0</td>\n",
       "      <td>0.9082</td>\n",
       "      <td>-0.2196</td>\n",
       "      <td>-0.5392</td>\n",
       "    </tr>\n",
       "    <tr>\n",
       "      <th>3</th>\n",
       "      <td>0.016708</td>\n",
       "      <td>-1.158142</td>\n",
       "      <td>0.0</td>\n",
       "      <td>0.8974</td>\n",
       "      <td>-0.2102</td>\n",
       "      <td>-0.5122</td>\n",
       "    </tr>\n",
       "    <tr>\n",
       "      <th>4</th>\n",
       "      <td>0.011673</td>\n",
       "      <td>-1.161194</td>\n",
       "      <td>0.0</td>\n",
       "      <td>0.8882</td>\n",
       "      <td>-0.2036</td>\n",
       "      <td>-0.4824</td>\n",
       "    </tr>\n",
       "    <tr>\n",
       "      <th>...</th>\n",
       "      <td>...</td>\n",
       "      <td>...</td>\n",
       "      <td>...</td>\n",
       "      <td>...</td>\n",
       "      <td>...</td>\n",
       "      <td>...</td>\n",
       "    </tr>\n",
       "    <tr>\n",
       "      <th>695</th>\n",
       "      <td>0.003479</td>\n",
       "      <td>2.299500</td>\n",
       "      <td>7.0</td>\n",
       "      <td>0.9134</td>\n",
       "      <td>-0.1400</td>\n",
       "      <td>0.1074</td>\n",
       "    </tr>\n",
       "    <tr>\n",
       "      <th>696</th>\n",
       "      <td>0.000778</td>\n",
       "      <td>2.305603</td>\n",
       "      <td>7.0</td>\n",
       "      <td>0.9092</td>\n",
       "      <td>-0.1394</td>\n",
       "      <td>0.0994</td>\n",
       "    </tr>\n",
       "    <tr>\n",
       "      <th>697</th>\n",
       "      <td>-0.001694</td>\n",
       "      <td>2.297974</td>\n",
       "      <td>7.0</td>\n",
       "      <td>0.9084</td>\n",
       "      <td>-0.1414</td>\n",
       "      <td>0.0934</td>\n",
       "    </tr>\n",
       "    <tr>\n",
       "      <th>698</th>\n",
       "      <td>-0.003799</td>\n",
       "      <td>2.354431</td>\n",
       "      <td>7.0</td>\n",
       "      <td>0.9116</td>\n",
       "      <td>-0.1416</td>\n",
       "      <td>0.0958</td>\n",
       "    </tr>\n",
       "    <tr>\n",
       "      <th>699</th>\n",
       "      <td>-0.006546</td>\n",
       "      <td>2.355957</td>\n",
       "      <td>7.0</td>\n",
       "      <td>0.9156</td>\n",
       "      <td>-0.1396</td>\n",
       "      <td>0.1022</td>\n",
       "    </tr>\n",
       "  </tbody>\n",
       "</table>\n",
       "<p>700 rows × 6 columns</p>\n",
       "</div>"
      ],
      "text/plain": [
       "          ECG      RESP  LABEL    ACCx    ACCy    ACCz\n",
       "0    0.021423 -1.148987    0.0  0.9554 -0.2220 -0.5580\n",
       "1    0.020325 -1.124573    0.0  0.9258 -0.2216 -0.5538\n",
       "2    0.016525 -1.152039    0.0  0.9082 -0.2196 -0.5392\n",
       "3    0.016708 -1.158142    0.0  0.8974 -0.2102 -0.5122\n",
       "4    0.011673 -1.161194    0.0  0.8882 -0.2036 -0.4824\n",
       "..        ...       ...    ...     ...     ...     ...\n",
       "695  0.003479  2.299500    7.0  0.9134 -0.1400  0.1074\n",
       "696  0.000778  2.305603    7.0  0.9092 -0.1394  0.0994\n",
       "697 -0.001694  2.297974    7.0  0.9084 -0.1414  0.0934\n",
       "698 -0.003799  2.354431    7.0  0.9116 -0.1416  0.0958\n",
       "699 -0.006546  2.355957    7.0  0.9156 -0.1396  0.1022\n",
       "\n",
       "[700 rows x 6 columns]"
      ]
     },
     "execution_count": 5,
     "metadata": {},
     "output_type": "execute_result"
    }
   ],
   "source": [
    "# Call your function here \n",
    "y=pickle_to_csv(\"Data/Stress.pkl\")\n",
    "y"
   ]
  },
  {
   "cell_type": "markdown",
   "metadata": {},
   "source": [
    "**Question 2**"
   ]
  },
  {
   "cell_type": "code",
   "execution_count": 140,
   "metadata": {},
   "outputs": [
    {
     "data": {
      "text/plain": [
       "'\\n    Find the number of occurrences of each unique value in `LABEL` (count of values).\\n    \\n    Add a column `BINARY` to the DataFrame which contains 1 if `LABEL` is 2,\\n    else 0.\\n    \\n    Find the mean, minimum, maximum and standard deviation of `RESP` for each value in `LABEL`.\\n'"
      ]
     },
     "execution_count": 140,
     "metadata": {},
     "output_type": "execute_result"
    }
   ],
   "source": [
    "\"\"\"\n",
    "    Find the number of occurrences of each unique value in `LABEL` (count of values).\n",
    "    \n",
    "    Add a column `BINARY` to the DataFrame which contains 1 if `LABEL` is 2,\n",
    "    else 0.\n",
    "    \n",
    "    Find the mean, minimum, maximum and standard deviation of `RESP` for each value in `LABEL`.\n",
    "\"\"\""
   ]
  },
  {
   "cell_type": "code",
   "execution_count": 141,
   "metadata": {},
   "outputs": [],
   "source": [
    "def count_unique(x):\n",
    "    \"\"\"\n",
    "        Function 1: count_unique(dataframe)\n",
    "        Parameters: dataframe: Stress data DataFrame\n",
    "        Return: dict containing count of values in `LABEL`\n",
    "    \"\"\"\n",
    "  \n",
    "    return x[\"LABEL\"].value_counts()\n"
   ]
  },
  {
   "cell_type": "code",
   "execution_count": 142,
   "metadata": {},
   "outputs": [
    {
     "data": {
      "text/plain": [
       "0.0    100\n",
       "1.0    100\n",
       "2.0    100\n",
       "6.0    100\n",
       "4.0    100\n",
       "3.0    100\n",
       "7.0    100\n",
       "Name: LABEL, dtype: int64"
      ]
     },
     "execution_count": 142,
     "metadata": {},
     "output_type": "execute_result"
    }
   ],
   "source": [
    "# Call your function here\n",
    "\n",
    "count_unique(y)"
   ]
  },
  {
   "cell_type": "code",
   "execution_count": 47,
   "metadata": {},
   "outputs": [],
   "source": [
    "def add_binary(x):\n",
    "    \"\"\"\n",
    "        Function 2: add_binary(dataframe)\n",
    "        Parameters: dataframe: Stress data DataFrame\n",
    "        Return: DataFrame (updated, containing `BINARY`)\n",
    "    \"\"\"\n",
    "#     return x.insert(6,\"BINARY\",[ 1 if i==2 else 0 for i in x[\"LABEL\"]])\n",
    "#     a=x.drop(\"BINARY1\",axis=1)\n",
    "    return x\n"
   ]
  },
  {
   "cell_type": "code",
   "execution_count": 48,
   "metadata": {},
   "outputs": [
    {
     "data": {
      "text/html": [
       "<div>\n",
       "<style scoped>\n",
       "    .dataframe tbody tr th:only-of-type {\n",
       "        vertical-align: middle;\n",
       "    }\n",
       "\n",
       "    .dataframe tbody tr th {\n",
       "        vertical-align: top;\n",
       "    }\n",
       "\n",
       "    .dataframe thead th {\n",
       "        text-align: right;\n",
       "    }\n",
       "</style>\n",
       "<table border=\"1\" class=\"dataframe\">\n",
       "  <thead>\n",
       "    <tr style=\"text-align: right;\">\n",
       "      <th></th>\n",
       "      <th>ECG</th>\n",
       "      <th>RESP</th>\n",
       "      <th>LABEL</th>\n",
       "      <th>ACCx</th>\n",
       "      <th>ACCy</th>\n",
       "      <th>ACCz</th>\n",
       "      <th>BINARY</th>\n",
       "    </tr>\n",
       "  </thead>\n",
       "  <tbody>\n",
       "    <tr>\n",
       "      <th>0</th>\n",
       "      <td>0.021423</td>\n",
       "      <td>-1.148987</td>\n",
       "      <td>0.0</td>\n",
       "      <td>0.9554</td>\n",
       "      <td>-0.2220</td>\n",
       "      <td>-0.5580</td>\n",
       "      <td>0</td>\n",
       "    </tr>\n",
       "    <tr>\n",
       "      <th>1</th>\n",
       "      <td>0.020325</td>\n",
       "      <td>-1.124573</td>\n",
       "      <td>0.0</td>\n",
       "      <td>0.9258</td>\n",
       "      <td>-0.2216</td>\n",
       "      <td>-0.5538</td>\n",
       "      <td>0</td>\n",
       "    </tr>\n",
       "    <tr>\n",
       "      <th>2</th>\n",
       "      <td>0.016525</td>\n",
       "      <td>-1.152039</td>\n",
       "      <td>0.0</td>\n",
       "      <td>0.9082</td>\n",
       "      <td>-0.2196</td>\n",
       "      <td>-0.5392</td>\n",
       "      <td>0</td>\n",
       "    </tr>\n",
       "    <tr>\n",
       "      <th>3</th>\n",
       "      <td>0.016708</td>\n",
       "      <td>-1.158142</td>\n",
       "      <td>0.0</td>\n",
       "      <td>0.8974</td>\n",
       "      <td>-0.2102</td>\n",
       "      <td>-0.5122</td>\n",
       "      <td>0</td>\n",
       "    </tr>\n",
       "    <tr>\n",
       "      <th>4</th>\n",
       "      <td>0.011673</td>\n",
       "      <td>-1.161194</td>\n",
       "      <td>0.0</td>\n",
       "      <td>0.8882</td>\n",
       "      <td>-0.2036</td>\n",
       "      <td>-0.4824</td>\n",
       "      <td>0</td>\n",
       "    </tr>\n",
       "    <tr>\n",
       "      <th>...</th>\n",
       "      <td>...</td>\n",
       "      <td>...</td>\n",
       "      <td>...</td>\n",
       "      <td>...</td>\n",
       "      <td>...</td>\n",
       "      <td>...</td>\n",
       "      <td>...</td>\n",
       "    </tr>\n",
       "    <tr>\n",
       "      <th>695</th>\n",
       "      <td>0.003479</td>\n",
       "      <td>2.299500</td>\n",
       "      <td>7.0</td>\n",
       "      <td>0.9134</td>\n",
       "      <td>-0.1400</td>\n",
       "      <td>0.1074</td>\n",
       "      <td>0</td>\n",
       "    </tr>\n",
       "    <tr>\n",
       "      <th>696</th>\n",
       "      <td>0.000778</td>\n",
       "      <td>2.305603</td>\n",
       "      <td>7.0</td>\n",
       "      <td>0.9092</td>\n",
       "      <td>-0.1394</td>\n",
       "      <td>0.0994</td>\n",
       "      <td>0</td>\n",
       "    </tr>\n",
       "    <tr>\n",
       "      <th>697</th>\n",
       "      <td>-0.001694</td>\n",
       "      <td>2.297974</td>\n",
       "      <td>7.0</td>\n",
       "      <td>0.9084</td>\n",
       "      <td>-0.1414</td>\n",
       "      <td>0.0934</td>\n",
       "      <td>0</td>\n",
       "    </tr>\n",
       "    <tr>\n",
       "      <th>698</th>\n",
       "      <td>-0.003799</td>\n",
       "      <td>2.354431</td>\n",
       "      <td>7.0</td>\n",
       "      <td>0.9116</td>\n",
       "      <td>-0.1416</td>\n",
       "      <td>0.0958</td>\n",
       "      <td>0</td>\n",
       "    </tr>\n",
       "    <tr>\n",
       "      <th>699</th>\n",
       "      <td>-0.006546</td>\n",
       "      <td>2.355957</td>\n",
       "      <td>7.0</td>\n",
       "      <td>0.9156</td>\n",
       "      <td>-0.1396</td>\n",
       "      <td>0.1022</td>\n",
       "      <td>0</td>\n",
       "    </tr>\n",
       "  </tbody>\n",
       "</table>\n",
       "<p>700 rows × 7 columns</p>\n",
       "</div>"
      ],
      "text/plain": [
       "          ECG      RESP  LABEL    ACCx    ACCy    ACCz  BINARY\n",
       "0    0.021423 -1.148987    0.0  0.9554 -0.2220 -0.5580       0\n",
       "1    0.020325 -1.124573    0.0  0.9258 -0.2216 -0.5538       0\n",
       "2    0.016525 -1.152039    0.0  0.9082 -0.2196 -0.5392       0\n",
       "3    0.016708 -1.158142    0.0  0.8974 -0.2102 -0.5122       0\n",
       "4    0.011673 -1.161194    0.0  0.8882 -0.2036 -0.4824       0\n",
       "..        ...       ...    ...     ...     ...     ...     ...\n",
       "695  0.003479  2.299500    7.0  0.9134 -0.1400  0.1074       0\n",
       "696  0.000778  2.305603    7.0  0.9092 -0.1394  0.0994       0\n",
       "697 -0.001694  2.297974    7.0  0.9084 -0.1414  0.0934       0\n",
       "698 -0.003799  2.354431    7.0  0.9116 -0.1416  0.0958       0\n",
       "699 -0.006546  2.355957    7.0  0.9156 -0.1396  0.1022       0\n",
       "\n",
       "[700 rows x 7 columns]"
      ]
     },
     "execution_count": 48,
     "metadata": {},
     "output_type": "execute_result"
    }
   ],
   "source": [
    "# Call your function here\n",
    "add_binary(y)\n",
    "\n"
   ]
  },
  {
   "cell_type": "code",
   "execution_count": 167,
   "metadata": {},
   "outputs": [],
   "source": [
    "def compute_resp(x):\n",
    "    \"\"\"\n",
    "        Function 3: compute_resp(dataframe)\n",
    "        Parameters: dataframe: Stress data DataFrame\n",
    "        Return: dict containing mean, min, max and standard deviation of `RESP`\n",
    "                for each value in `LABEL`\n",
    "        Dictionary Format: {label_value: [mean, min, max, std_dev]}\n",
    "        Example: {1: [1, 0, 2, 1], 2: [0, -1, 1, 1], ... }\n",
    "    \"\"\"\n",
    "    a=[]\n",
    "    a1=x.iloc[0:100,1].mean()\n",
    "    a.append(a1)\n",
    "    a2=x.iloc[0:100,1].min()\n",
    "    a.append(a2)\n",
    "    a3=x.iloc[0:100,1].max()\n",
    "    a.append(a3)\n",
    "    a4=x.iloc[0:100,1].std()\n",
    "    a.append(a4)\n",
    "    b=[]\n",
    "    b1=x.iloc[100:200,1].mean()\n",
    "    b.append(b1)\n",
    "    b2=x.iloc[100:200,1].min()\n",
    "    b.append(b2)\n",
    "    b3=x.iloc[100:200,1].max()\n",
    "    b.append(b3)\n",
    "    b4=x.iloc[100:200,1].std()\n",
    "    b.append(b4)\n",
    "    c=[]\n",
    "    c1=x.iloc[200:300,1].mean()\n",
    "    c.append(c1)\n",
    "    c2=x.iloc[200:300,1].min()\n",
    "    c.append(c2)\n",
    "    c3=x.iloc[200:300,1].max()\n",
    "    c.append(c3)\n",
    "    c4=x.iloc[200:300,1].std()\n",
    "    c.append(c4)\n",
    "    d=[]\n",
    "    d1=x.iloc[300:400,1].mean()\n",
    "    d.append(d1)\n",
    "    d2=x.iloc[300:400,1].min()\n",
    "    d.append(d2)\n",
    "    d3=x.iloc[300:400,1].max()\n",
    "    d.append(d3)\n",
    "    d4=x.iloc[300:400,1].std()\n",
    "    d.append(d4)\n",
    "    e=[]\n",
    "    e1=x.iloc[400:500,1].mean()\n",
    "    e.append(e1)\n",
    "    e2=x.iloc[400:500,1].min()\n",
    "    e.append(e2)\n",
    "    e3=x.iloc[400:500,1].max()\n",
    "    e.append(e3)\n",
    "    e4=x.iloc[400:500,1].std()\n",
    "    e.append(e4)\n",
    "    f=[]\n",
    "    f1=x.iloc[500:600,1].mean()\n",
    "    f.append(f1)\n",
    "    f2=x.iloc[500:600,1].min()\n",
    "    f.append(f2)\n",
    "    f3=x.iloc[500:600,1].max()\n",
    "    f.append(f3)\n",
    "    f4=x.iloc[500:600,1].std()\n",
    "    f.append(f4)\n",
    "    g=[]\n",
    "    g1=x.iloc[600:700,1].mean()\n",
    "    g.append(g1)\n",
    "    g2=x.iloc[600:700,1].min()\n",
    "    g.append(g2)\n",
    "    g3=x.iloc[600:700,1].max()\n",
    "    g.append(g3)\n",
    "    g4=x.iloc[600:700,1].std()\n",
    "    g.append(g4)\n",
    "    z={\"0\":a,\"1\":b,\"2\":c,\"3\":f,\"4\":e,\"6\":d,\"7\":g}\n",
    "    return z"
   ]
  },
  {
   "cell_type": "code",
   "execution_count": 168,
   "metadata": {
    "scrolled": true
   },
   "outputs": [
    {
     "data": {
      "text/plain": [
       "{'0': [-1.19342041015625,\n",
       "  -1.39617919921875,\n",
       "  -1.12457275390625,\n",
       "  0.04224704631603914],\n",
       " '1': [0.7134246826171875,\n",
       "  -0.23345947265625,\n",
       "  1.19171142578125,\n",
       "  0.2955339157237469],\n",
       " '2': [-1.0665130615234375,\n",
       "  -1.63116455078125,\n",
       "  -0.86517333984375,\n",
       "  0.12823314954549292],\n",
       " '3': [-0.5306396484375,\n",
       "  -1.27105712890625,\n",
       "  -0.09918212890625,\n",
       "  0.24397469864245047],\n",
       " '4': [-2.1305999755859375,\n",
       "  -2.54364013671875,\n",
       "  -2.00042724609375,\n",
       "  0.08807708808175198],\n",
       " '6': [0.084747314453125,\n",
       "  -0.4180908203125,\n",
       "  0.16632080078125,\n",
       "  0.08561486266706556],\n",
       " '7': [1.1905059814453125,\n",
       "  -0.00457763671875,\n",
       "  2.35595703125,\n",
       "  0.6931962371698447]}"
      ]
     },
     "execution_count": 168,
     "metadata": {},
     "output_type": "execute_result"
    }
   ],
   "source": [
    "# Call your function here\n",
    "compute_resp(y)"
   ]
  },
  {
   "cell_type": "markdown",
   "metadata": {},
   "source": [
    "**Question 3**"
   ]
  },
  {
   "cell_type": "code",
   "execution_count": 66,
   "metadata": {},
   "outputs": [
    {
     "data": {
      "text/plain": [
       "'\\n    Plot `RESP` using matplotlib (pyplot):\\n    - First, just plot the raw values.\\n    - Next, try using different colours for data points based on `BINARY`.\\n    - Experiment and come up with a useful plot.\\n'"
      ]
     },
     "execution_count": 66,
     "metadata": {},
     "output_type": "execute_result"
    }
   ],
   "source": [
    "\"\"\"\n",
    "    Plot `RESP` using matplotlib (pyplot):\n",
    "    - First, just plot the raw values.\n",
    "    - Next, try using different colours for data points based on `BINARY`.\n",
    "    - Experiment and come up with a useful plot.\n",
    "\"\"\""
   ]
  },
  {
   "cell_type": "code",
   "execution_count": 38,
   "metadata": {},
   "outputs": [],
   "source": [
    "import matplotlib.pyplot as plt\n",
    "import numpy as np\n",
    "def plot_raw(y):\n",
    "    \"\"\"\n",
    "        Function 1: plot_raw(dataframe)\n",
    "        Parameters: dataframe: Stress data DataFrame\n",
    "        Output: Plot\n",
    "    \"\"\"\n",
    "    q=np.arange(0,700)\n",
    "    a=[i for i in y[\"RESP\"]]\n",
    "    plt.scatter(q,a)\n",
    "    plt.show()"
   ]
  },
  {
   "cell_type": "code",
   "execution_count": 39,
   "metadata": {},
   "outputs": [
    {
     "data": {
      "image/png": "[encoded data removed]",
      "text/plain": [
       "<Figure size 640x480 with 1 Axes>"
      ]
     },
     "metadata": {},
     "output_type": "display_data"
    }
   ],
   "source": [
    "# Call your function here\n",
    "plot_raw(y)"
   ]
  },
  {
   "cell_type": "code",
   "execution_count": 91,
   "metadata": {},
   "outputs": [],
   "source": [
    "import matplotlib.pyplot as plt\n",
    "import numpy as np\n",
    "def plot_coloured(y):\n",
    "    \"\"\"\n",
    "        Function 2: plot_coloured(dataframe)\n",
    "        Parameters: dataframe: Stress data DataFrame\n",
    "        Output: Plot\n",
    "    \"\"\"\n",
    "    a=[]\n",
    "    b=[]\n",
    "    q=[]\n",
    "    r=[]\n",
    "    for i in range(len(y[\"RESP\"])):\n",
    "        if y[\"BINARY\"][i]==0:\n",
    "            a.append(y[\"RESP\"][i])\n",
    "            q.append(i)\n",
    "        elif y[\"BINARY\"][i]==1:\n",
    "            b.append(y[\"RESP\"][i])\n",
    "            r.append(i)\n",
    "            \n",
    "    plt.scatter(r,b)\n",
    "    plt.scatter(q,a)\n",
    "    plt.show()\n"
   ]
  },
  {
   "cell_type": "code",
   "execution_count": 92,
   "metadata": {},
   "outputs": [
    {
     "data": {
      "image/png": "[encoded data removed]",
      "text/plain": [
       "<Figure size 640x480 with 1 Axes>"
      ]
     },
     "metadata": {},
     "output_type": "display_data"
    }
   ],
   "source": [
    "# Call your function here\n",
    "plot_coloured(y)"
   ]
  },
  {
   "cell_type": "markdown",
   "metadata": {},
   "source": [
    "## Task 2"
   ]
  },
  {
   "cell_type": "markdown",
   "metadata": {},
   "source": [
    "Some simple file operations."
   ]
  },
  {
   "cell_type": "code",
   "execution_count": 71,
   "metadata": {},
   "outputs": [
    {
     "data": {
      "text/plain": [
       "'\\n    Generate a text file containing 50 integer elements between 1 and 20 (use `random`). \\n    Identify the unique numbers and the number of their occurrences, and write this into \\n    a new text file.\\n    \\n    Example\\n    -------\\n    \\n    Generated File\\n    --------------\\n    1 2 3 4 3 2 1 ...\\n    \\n    Count File\\n    ----------\\n    1 - 2\\n    2 - 2\\n    3 - 2\\n    4 - 1\\n    ...\\n'"
      ]
     },
     "execution_count": 71,
     "metadata": {},
     "output_type": "execute_result"
    }
   ],
   "source": [
    "\"\"\"\n",
    "    Generate a text file containing 50 integer elements between 1 and 20 (use `random`). \n",
    "    Identify the unique numbers and the number of their occurrences, and write this into \n",
    "    a new text file.\n",
    "    \n",
    "    Example\n",
    "    -------\n",
    "    \n",
    "    Generated File\n",
    "    --------------\n",
    "    1 2 3 4 3 2 1 ...\n",
    "    \n",
    "    Count File\n",
    "    ----------\n",
    "    1 - 2\n",
    "    2 - 2\n",
    "    3 - 2\n",
    "    4 - 1\n",
    "    ...\n",
    "\"\"\""
   ]
  },
  {
   "cell_type": "code",
   "execution_count": 12,
   "metadata": {},
   "outputs": [],
   "source": [
    "import numpy as np,\n",
    "import pandas as pd\n",
    "def random_numbers():\n",
    "    \"\"\"\n",
    "        Function: random_numbers()\n",
    "        Save: `Numbers.txt` containing the 50 integers,\n",
    "              `Count.txt` containing the count of unique integers\n",
    "    \"\"\"\n",
    "\n",
    "\n",
    "\n",
    "    a=np.random.randint(1,21,size=50)\n",
    "    x=[i for i in a]\n",
    "    b=np.arange(1,21)\n",
    "    z=[i for i in b]\n",
    "    for i in z:\n",
    "        print(f\"{i} -{x.count(i)} \")"
   ]
  },
  {
   "cell_type": "code",
   "execution_count": 13,
   "metadata": {},
   "outputs": [
    {
     "name": "stdout",
     "output_type": "stream",
     "text": [
      "1 -5 \n",
      "2 -0 \n",
      "3 -3 \n",
      "4 -0 \n",
      "5 -2 \n",
      "6 -2 \n",
      "7 -5 \n",
      "8 -2 \n",
      "9 -1 \n",
      "10 -3 \n",
      "11 -2 \n",
      "12 -3 \n",
      "13 -3 \n",
      "14 -0 \n",
      "15 -2 \n",
      "16 -1 \n",
      "17 -3 \n",
      "18 -4 \n",
      "19 -5 \n",
      "20 -4 \n"
     ]
    }
   ],
   "source": [
    "# Call your function here\n",
    "random_numbers()"
   ]
  },
  {
   "cell_type": "code",
   "execution_count": 4,
   "metadata": {},
   "outputs": [],
   "source": [
    "# Call your function here\n"
   ]
  },
  {
   "cell_type": "markdown",
   "metadata": {},
   "source": [
    "Once you're done, move on to Module 3. Great job!"
   ]
  },
  {
   "cell_type": "code",
   "execution_count": null,
   "metadata": {},
   "outputs": [],
   "source": []
  }
 ],
 "metadata": {
  "kernelspec": {
   "display_name": "Python 3 (ipykernel)",
   "language": "python",
   "name": "python3"
  },
  "language_info": {
   "codemirror_mode": {
    "name": "ipython",
    "version": 3
   },
   "file_extension": ".py",
   "mimetype": "text/x-python",
   "name": "python",
   "nbconvert_exporter": "python",
   "pygments_lexer": "ipython3",
   "version": "3.9.13"
  }
 },
 "nbformat": 4,
 "nbformat_minor": 2
}
